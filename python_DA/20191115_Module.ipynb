{
 "cells": [
  {
   "cell_type": "code",
   "execution_count": 1,
   "metadata": {},
   "outputs": [],
   "source": [
    "# Module은 R에서 패키지와 비슷하다\n",
    "# python은 module\n",
    "# module : 하나의 python 파일 => 변수, 함수, class\n",
    "# python의 module은 다른 python 프로그램에서 불러와 사용할 수 있는 python file을 지칭\n",
    "# 우리가 생성한 module을 어디에다 저장해 놓아야 할까?\n",
    "import sys # sys라는 module을 불러와서 사용하자\n",
    "\n",
    "sys.path.append(\"C:/python_Lib\")\n",
    "# sys.path가 리스트이므로 append사용 가능\n",
    "\n",
    "\n",
    "# 환경변수 PYTHONPATH 라는걸 만들어서 여기에 module을 넣어놓으면 프로그램 어디에서나 사용할 수 있다.\n",
    "# but!! 컴퓨터 껐다 켤때마다 매번 실행해줘야한다\n",
    "# => 간편하게 폴더를 만들어 놓고 사용할 수 있다.\n",
    "# 파일탐색기 => 내PC(오른쪽마우스) => 속성 => 고급시스템설정 => 환경변수 => 새로만들기 \n"
   ]
  },
  {
   "cell_type": "code",
   "execution_count": 2,
   "metadata": {
    "scrolled": false
   },
   "outputs": [
    {
     "ename": "ModuleNotFoundError",
     "evalue": "No module named 'module1'",
     "output_type": "error",
     "traceback": [
      "\u001b[1;31m---------------------------------------------------------------------------\u001b[0m",
      "\u001b[1;31mModuleNotFoundError\u001b[0m                       Traceback (most recent call last)",
      "\u001b[1;32m<ipython-input-2-5d9984eeb1e3>\u001b[0m in \u001b[0;36m<module>\u001b[1;34m\u001b[0m\n\u001b[0;32m      1\u001b[0m \u001b[1;31m# module 형식을 사용하는 형식은 import 모듈명(파일명)\u001b[0m\u001b[1;33m\u001b[0m\u001b[1;33m\u001b[0m\u001b[1;33m\u001b[0m\u001b[0m\n\u001b[1;32m----> 2\u001b[1;33m \u001b[1;32mimport\u001b[0m \u001b[0mmodule1\u001b[0m\u001b[1;33m\u001b[0m\u001b[1;33m\u001b[0m\u001b[0m\n\u001b[0m\u001b[0;32m      3\u001b[0m \u001b[0mprint\u001b[0m\u001b[1;33m(\u001b[0m\u001b[0mmodule1\u001b[0m\u001b[1;33m.\u001b[0m\u001b[0mmodule_PI\u001b[0m\u001b[1;33m)\u001b[0m\u001b[1;33m\u001b[0m\u001b[1;33m\u001b[0m\u001b[0m\n\u001b[0;32m      4\u001b[0m \u001b[1;31m# 결과 : 3.141592\u001b[0m\u001b[1;33m\u001b[0m\u001b[1;33m\u001b[0m\u001b[1;33m\u001b[0m\u001b[0m\n\u001b[0;32m      5\u001b[0m \u001b[1;31m# 해당모듈(module1)이 가지고 있는 모듈이름(module_PI)\u001b[0m\u001b[1;33m\u001b[0m\u001b[1;33m\u001b[0m\u001b[1;33m\u001b[0m\u001b[0m\n",
      "\u001b[1;31mModuleNotFoundError\u001b[0m: No module named 'module1'"
     ]
    }
   ],
   "source": [
    "# module 형식을 사용하는 형식은 import 모듈명(파일명)\n",
    "import module1\n",
    "print(module1.module_PI)\n",
    "# 결과 : 3.141592\n",
    "# 해당모듈(module1)이 가지고 있는 모듈이름(module_PI)\n",
    "print(module1.mySum(10,20))\n",
    "# 결과 : 30\n",
    "\n",
    "# alias를 이용해서 편하게 사용하자\n",
    "import module1 as m\n",
    "print(m.module_PI)\n",
    "# 결과 : 3.141592\n",
    "print(m.mySum(10,20))\n",
    "# 결과 : 30\n",
    "\n",
    "# from 모듈이름 import 모듈함수(변수, 클래스)\n",
    "from module1 import module_PI # 변수나 함수를 개별적으로 불러들인다\n",
    "print(module_PI)\n",
    "# 결과 : 3.141592\n",
    "from module1 import * # 전부 다 들고온다\n",
    "print(mySum(10,20))\n",
    "# 결과 : 30\n",
    "\n",
    "# package : \".\" 기호를 이용해서 module을 계층적으로 관리\n",
    "# package는 물리적으로 표현할 경우 폴더로 표현한다\n",
    "# A.B 라고 할 때 A : package, B : module\n",
    "\n",
    "import myPackage.module1\n",
    "# myPackage라는 폴더 안에 module1이라는 모듈이 있어야한다.\n",
    "# Lib 폴더 안에 myPakcage 폴더를 만들고 module1을 그 폴더 안에 넣어준다\n",
    "print(myPackage.module1.module_PI)\n",
    "# 결과 : 3.141592\n",
    "\n",
    "from myPackage import module1\n",
    "# 패키지에서 모듈1을 import한다\n",
    "print(myPackage.module1.module_PI)\n",
    "# 결과 : 3.141592\n",
    "print(module1.module_PI)\n",
    "# 결과 : 3.141592\n",
    "# 프린트할 때 myPakcage를 굳이 안 써도 똑같은 결과가 나온다\n",
    "from myPackage.module1 import *\n",
    "print(module_PI)\n",
    "# 결과 : 3.141592\n",
    "\n",
    "\n",
    "from myPackage.module1 import mySum\n",
    "print(mySum(10,20))\n",
    "# 결과 : 30\n",
    "\n",
    "## *** import 뒷부분을 짧게 해줄수록 좋다 => print뒤에 내가 계속 써야하기때문에 ***\n",
    "## *** 짧게 할 수 없다면? alias 사용 ***\n",
    "\n",
    "\n",
    "\n"
   ]
  },
  {
   "cell_type": "code",
   "execution_count": 7,
   "metadata": {},
   "outputs": [
    {
     "name": "stdout",
     "output_type": "stream",
     "text": [
      "3.141592\n",
      "30\n",
      "3.141592\n",
      "30\n"
     ]
    }
   ],
   "source": []
  },
  {
   "cell_type": "code",
   "execution_count": null,
   "metadata": {},
   "outputs": [],
   "source": []
  },
  {
   "cell_type": "code",
   "execution_count": null,
   "metadata": {},
   "outputs": [],
   "source": []
  }
 ],
 "metadata": {
  "kernelspec": {
   "display_name": "[CPU_ENV]",
   "language": "python",
   "name": "cpu_env"
  },
  "language_info": {
   "codemirror_mode": {
    "name": "ipython",
    "version": 3
   },
   "file_extension": ".py",
   "mimetype": "text/x-python",
   "name": "python",
   "nbconvert_exporter": "python",
   "pygments_lexer": "ipython3",
   "version": "3.6.9"
  }
 },
 "nbformat": 4,
 "nbformat_minor": 2
}
