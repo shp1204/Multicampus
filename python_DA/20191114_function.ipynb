{
 "cells": [
  {
   "cell_type": "code",
   "execution_count": 1,
   "metadata": {},
   "outputs": [],
   "source": [
    "# 파이썬에서 함수는 크게 2가지로 구분할 수 있다. \n",
    "# 1) 내장함수 : sum()\n",
    "# 2) 사용자 정의함수(user define 함수)\n",
    "\n",
    "# 사용자 정의 함수를 만드는 keyword는 def\n",
    "\n",
    "# 함수 이름은 소문자로 시작한다(관용적)\n",
    "# 함수의 정의(definition) => 함수의 이름, 인자형태, 인자의 개수 + 기능구현\n",
    "# 함수의 선언(declaration) => 함수의 이름, 인자형태, 인자의 개수 "
   ]
  },
  {
   "cell_type": "code",
   "execution_count": null,
   "metadata": {},
   "outputs": [],
   "source": [
    "# 첫 번째 함수\n",
    "## 숫자를 입력받아서 해당 숫자를 모두 더한 후, \"결과값은 : ~~압나더,\" 형식으로 출력해보자\n",
    "\n",
    "# 숫자를 입력받는 것  => 단위기능으로 간주 => 함수\n",
    "# 해당 숫자를 모두 더하는 것 => 단위기능으로 간주 => 함수\n",
    "# 출력 => 단위기능으로 간주 => 함수\n",
    "\n",
    "# => 이렇게 함수 기반의 프로그래밍 방식을 절차적 프로그래밍(procedural programing)이라고 한다 !\n",
    "def mySum(a,b,c):       # a, b, c를 입력받자 (a,b,c는 변수)\n",
    "    total = a + b + c    \n",
    "    return total\n",
    "\n",
    "# 입력받는 내장함수, 무조건 str로 받는다 !!! @@@@\n",
    "# 숫자 3개를 받아보자\n",
    "inputValue = input()\n",
    "#\"100 200 300\" => 한개의 문자열이다 => 분리해야한다 (split 함수를 사용해보자)\n",
    "var1 = inputValue.split(\" \") #=> 공백을 기준으로 분리하자 => 값이 3개 나오기 때문에 알아서 리스트로 결과 값이 나온다\n",
    "result = mySum(int(var1[0]),int(var1[1]),int(var1[2]))\n",
    "print(\"결과값은 : {} 입니다.\".format(result))\n"
   ]
  },
  {
   "cell_type": "code",
   "execution_count": null,
   "metadata": {
    "scrolled": false
   },
   "outputs": [],
   "source": [
    "# 두 번째 함수\n",
    "# *는 개수를 모르니까 입력받은거 전부 다 드루와\n",
    "# args는 tuple로 간주된다 (리스트 아님 주의 !!! 소괄호, 값변경 불가 )\n",
    "def mySum2(*args):\n",
    "    # args =>(10,20,30,40)을 받을 것이다 !\n",
    "    # 전달받은 모든 값들을 더해서 리턴할거야\n",
    "    \n",
    "    \n",
    "    k = 0\n",
    "    for i in range(len(args)): # 받은 개수만큼 돌리자\n",
    "        k += args[i]\n",
    "    return k    \n",
    "    \n",
    "total = mySum2(10,20,30,40)\n",
    "print(\"최종결과 : {}\".format(total))\n",
    "total = mySum2(30,50,10,80)\n",
    "print(\"최종결과 : {}\".format(total))"
   ]
  },
  {
   "cell_type": "code",
   "execution_count": 3,
   "metadata": {},
   "outputs": [
    {
     "name": "stdout",
     "output_type": "stream",
     "text": [
      "30\n",
      "200\n"
     ]
    }
   ],
   "source": [
    "# 세 번째 함수\n",
    "# 숫자 2개를 받아서 두개의 합과 두개의 곱을 리턴하자\n",
    "\n",
    "def multi_process(x,y):\n",
    "    result1 = x + y\n",
    "    result2 = x * y\n",
    "    return result1,result2 # tuple로 나온다 => 두 개의 값이 아닌 한개의 값을 내보낸다\n",
    "\n",
    "\n",
    "a,b = multi_process(10,20)\n",
    "print(a)\n",
    "print(b)\n",
    "# 결과 :30"
   ]
  },
  {
   "cell_type": "code",
   "execution_count": null,
   "metadata": {},
   "outputs": [],
   "source": [
    "# 네 번째 함수\n",
    "# default parameter\n",
    "\n",
    "# 마지막 parameter default값을 지정할 수 있다.( 앞에있는것들은 안됨!!!!!)\n",
    "def mySum(a,b,c=100):\n",
    "    return a+b+c\n",
    "\n",
    "\n",
    "total = mySum(1,2,3)\n",
    "print(total)\n",
    "# 결과 : 6\n",
    "\n",
    "# 굳이 값을 지정하지 않아도 c에 default값이 100인 수가 들어간다\n",
    "total2=mySum(1,2)\n",
    "print(total2)\n",
    "# 결과 : 103\n",
    "\n",
    "def mySum(a,b,c=\"ERROR\"):\n",
    "    return a,b,c\n",
    "\n",
    "# 굳이 값을 지정하지 않아도 c에 default값이 100인 수가 들어간다\n",
    "total2=mySum(1,2)\n",
    "print(total2)\n",
    "# 결과 : (1, 2, 'ERROR')"
   ]
  },
  {
   "cell_type": "code",
   "execution_count": null,
   "metadata": {},
   "outputs": [],
   "source": [
    "# 다섯 번째 함수\n",
    "# 전역변수와 지역변수\n",
    "\n",
    "tmp = 100                           # global variable\n",
    "def myFunc(x):\n",
    "    tmp = 10                        # local variable\n",
    "    tmp += x\n",
    "    return tmp\n",
    "print(myFunc(20))\n",
    "# 결과 : 30\n",
    "print(tmp)\n",
    "# 결과 : 100\n",
    "\n",
    "# 함수 안에서의 선언된 변수는 local variable(지역변수)\n",
    "# local variable은 함수가 호출될 때 생성되고, 함수 수행이 끝나면 없어진다.\n",
    "\n",
    "\n",
    "# local variable을 global variable로 바꾸고 싶을 때 !!!!\n",
    "\n",
    "tmp = 100                           # global variable\n",
    "def myFunc(x):\n",
    "    global tmp:                    # tmp를 global에서 찾으세요~ 라고 선언하는것\n",
    "    tmp = 10                        # 찾은 tmp의 값을 바꾼다! \n",
    "    tmp += x\n",
    "    return tmp\n",
    "print(myFunc(20))\n",
    "# 결과 : 30\n",
    "print(tmp)\n",
    "# 결과 : 100"
   ]
  },
  {
   "cell_type": "code",
   "execution_count": 1,
   "metadata": {},
   "outputs": [
    {
     "name": "stdout",
     "output_type": "stream",
     "text": [
      "False\n",
      "True\n",
      "5\n"
     ]
    },
    {
     "data": {
      "text/plain": [
       "'이것은 소리없는 아우성'"
      ]
     },
     "execution_count": 1,
     "metadata": {},
     "output_type": "execute_result"
    }
   ],
   "source": [
    "# 프로그램을 작성할 때 함수를 어떻게 정의해서 사용할 것인지 고민해서 작성하자.\n",
    "# 함수기반의 프로그램을 작성해보자 !!!!!!!!!!!!!!!!!!!!!!!!!!!!!!!!!!!!!!!!!\n",
    "\n",
    "# 내장함수 \n",
    "# int() : 인자로 들어오는 수를 정수로 변환\n",
    "# abs() : 절대값을 리턴하는 함수\n",
    "# all() : 인자로 반복가능한 타입이 와야 한다, 인자로 들어온 값이 모두 True일 경우 True를 리턴한다\n",
    "            # list, tuple, dictionary, set, 문자열 등등\n",
    "a = [True,100,{},3.14]\n",
    "print(all(a))\n",
    "# 결과 : False\n",
    "# any() : 인자로 반복가능한 타입이 와야 한다, 인자로 들어온 값 중, True가 있으면 True를 리턴한다\n",
    "print(any(a))\n",
    "# 결과 : True\n",
    "# len() : 길이 구하는 내장함수\n",
    "# list() : list로 변환하는 함수\n",
    "# tuple() : tuple로 변환하는 함수\n",
    "# str() : 문자열로 변환하는 함수\n",
    "# type() : 인자로 들어온 데이터의 type을 return\n",
    "# max(), min() : 최대 최소를 구해준다\n",
    "# mean이 없으니 구해주자\n",
    "b = [2,4,6,8]\n",
    "mean = int(sum(b)/len(b))\n",
    "print(mean)\n",
    "# sorted() : 오름차순으로 정렬해주는 함수\n",
    "# join()\n",
    "a=[\"이것은\",\"소리없는\",\"아우성\"]\n",
    "\" \".join(a)\n",
    "#=> \"공백\"을 a의 요소 사이사이에 넣어서 join해라\n",
    "\n",
    "\n",
    "\n",
    "\n",
    "\n",
    "\n"
   ]
  },
  {
   "cell_type": "code",
   "execution_count": null,
   "metadata": {},
   "outputs": [],
   "source": []
  }
 ],
 "metadata": {
  "kernelspec": {
   "display_name": "[CPU_ENV]",
   "language": "python",
   "name": "cpu_env"
  },
  "language_info": {
   "codemirror_mode": {
    "name": "ipython",
    "version": 3
   },
   "file_extension": ".py",
   "mimetype": "text/x-python",
   "name": "python",
   "nbconvert_exporter": "python",
   "pygments_lexer": "ipython3",
   "version": "3.6.9"
  }
 },
 "nbformat": 4,
 "nbformat_minor": 2
}
