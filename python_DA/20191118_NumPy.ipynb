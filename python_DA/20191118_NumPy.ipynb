{
 "cells": [
  {
   "cell_type": "code",
   "execution_count": 1,
   "metadata": {},
   "outputs": [],
   "source": [
    "# NumPy(Numerical Python)\n",
    "# 적은 메모리로 빨리 처리할 수 있다.\n",
    "# 수학적 계산을 할 때, 수치 연산을 할 때 사용된다\n",
    "# R의 vector를 사용하는 것처럼 NumPy를 이용할 수 있다.\n",
    "\n",
    "# Vector연산, Matrix 연산을 빠르고 효율적으로 처리할 수 있다.\n",
    "# Pandas(데이터를 분석하는 모듈),Matplotlib(그래프를 그리는 모듈)의 기본 모듈이 Numpy\n",
    "\n",
    "# Numpy 모듈은 ndarray(n-dimensional array)라는 자료구조를 이용한다 => R에서 vector와 유사하다\n",
    "# 1,2,3차원 이상 모두 ndarrya라고 표현한다.\n",
    "# R의 vector 자료구조는 같은 데이터 타입을 저장하는 자료구조이다.( 전부 integer/ string / bool type등)\n",
    "# ndarray도 같은 데이터타입만 저장할 수 있다.\n",
    "\n",
    "# NumPy의 ndarray를 이용하려면 Numpy module이 설치되어 있어야한다. ( Numpy를 설치해야한다 !!! ) "
   ]
  },
  {
   "cell_type": "code",
   "execution_count": 3,
   "metadata": {},
   "outputs": [
    {
     "name": "stdout",
     "output_type": "stream",
     "text": [
      "list=>[1, 2, 3, 4] type=><class 'list'>\n",
      "list[0]=>1, type =><class 'int'>\n",
      "ndarray=>[1 2 3 4]\n",
      "ndarray type=><class 'numpy.ndarray'>\n",
      "ndarray type=>int32\n",
      "4294967296\n",
      "['100' 'Heollo' '3.14']\n",
      "<U11\n",
      "<class 'numpy.str_'>\n"
     ]
    }
   ],
   "source": [
    "# np를 설치하고 불러오자.\n",
    "# 아나콘다 프롬프트 창을 새롭게 관리자 권한으로 열고\n",
    "# cpu_env로 이동하고\n",
    "# conda라는 명령을 이용해서 module을 설치할 수 있다 => 아나콘다를 사용할 경우에만 가능\n",
    "# python은 pip를 이용해서 module을 설치\n",
    "# conda install numpy => y \n",
    "\n",
    "import numpy as np  # 관용적으로 numpy를 불러 올 때, np라고 잡는다\n",
    "\n",
    "# ndarray를 생성하고 data type을 살펴보자\n",
    "\n",
    "# python list\n",
    "# python은 사용하기 편하지만 속도가 느리다\n",
    "# 그래서 넘파이, 판다스는 이 부분을 보완하고 있다.\n",
    "a = [1,2,3,4]\n",
    "print(\"list=>{} type=>{}\".format(a, type(a)))\n",
    "# 결과 : list=>[1, 2, 3, 4] type=><class 'list'>\n",
    "print(\"list[0]=>{}, type =>{}\".format(a[0],type(a[0])))\n",
    "# 결과 : list[0]=>1, type =><class 'int'>\n",
    "# 모든 data type이 class이기 때문에 숫자한개를 만들면 int를 만드는게 아니라 class의 객체를 만드는 것이다.\n",
    "\n",
    "\n",
    "# NumPy ndarray\n",
    "b = np.array([1,2,3,4])\n",
    "# ()안에 파이썬의 리스트, 튜플을 넣을 수 있다.=> 이를 ndarray로 만들어준다!\n",
    "# type은 어떻게 될까?\n",
    "print(\"ndarray=>{}\".format(b))\n",
    "# 결과 : ndarray=>[1 2 3 4]  # \" ,\" 가 없고 한칸씩 띄워져있네????\n",
    "print(\"ndarray type=>{}\".format(type(b)))\n",
    "# 결과 : ndarray type=><class 'numpy.ndarray'>\n",
    "# =>  numpy라는 class의 객체를 만들어서 사용한 것이다!\n",
    "print(\"ndarray type=>{}\".format(b.dtype))\n",
    "# dtype : data type\n",
    "# 결과 : ndarray type=>int32\n",
    "# int32 => 32 bit, 정수 ( 칸이 32개이고, 10101~~ )\n",
    "print(2**32)\n",
    "# 결과 : 4294967296\n",
    "# 4294967296개만큼의 숫자표현이 가능하다\n",
    "# 개수는 양수와 음수를 모두 포함하고 있기 떄문에 약 -21억 ~ +21억까지의 수를 포함하고 있다\n",
    "# 이 범위를 벗어나는 수를 표현할 때는 int64를 사용하면된다! \n",
    "# 수가 작을 때는 굳이~ 64사용하지 않는다(메모리공간 낭비됨)\n",
    "\n",
    "# 자릿수, 한계범위가 숫자연산에 가장 중요하다 ! NumPy는 숫자연산에 특화되어있다 ! 중요해~~\n",
    "\n",
    "# NumPy array 만드는 가장 간단한 방법 : \"***\" = np.array()\n",
    "c = np.array([100,\"Heollo\",3.14])\n",
    "# 파이썬의 리스트를 np.array를하면 모두 다 같은 data type으로 (문자열형태) 변환한다~\n",
    "# R : 우선순위대로 문자 복소수 실수 정수 논리 로 자동정렬된다.\n",
    "print(c)\n",
    "# 결과 : ['100' 'Heollo' '3.14']\n",
    "print(c.dtype)\n",
    "# 결과 : <U11 \n",
    "# => 안에 유니코드(문자열)가 들어가있다 ~\n",
    "print(type(c[0]))\n",
    "# 결과 : <class 'numpy.str_'>\n",
    "# => 똑같은 숫자(100)이지만 데이터 타입이 다르다.\n",
    "# 파이썬 : int의 class에서 빠져나온다. => int\n",
    "# 넘파이 : NumPy 의 class에서 빠져나온다. => numpy.str"
   ]
  },
  {
   "cell_type": "code",
   "execution_count": 31,
   "metadata": {
    "scrolled": true
   },
   "outputs": [
    {
     "name": "stdout",
     "output_type": "stream",
     "text": [
      "[[1 2 3]\n",
      " [4 5 6]]\n",
      "[[1 2 3]\n",
      " [4 5 6]]\n",
      "6\n",
      "int32\n",
      "int64\n",
      "[[1 2 3]\n",
      " [4 5 6]]\n"
     ]
    }
   ],
   "source": [
    "# 다차원 numpy array를 만들어보자\n",
    "myList = [(1,2,3),(4,5,6)]          # 튜플과 튜플을 넣었다\n",
    "arr = np.array(myList)\n",
    "print(arr)\n",
    "# 결과 : \n",
    "#[[1 2 3]\n",
    "# [4 5 6]]\n",
    "\n",
    "myList2 = [[1,2,3],[4,5,6]]          # 튜플과 튜플을 넣었다 # 2차원의 ndarray\n",
    "arr2 = np.array(myList2)\n",
    "print(arr2)\n",
    "# 결과 : \n",
    "#[[1 2 3]\n",
    "# [4 5 6]]\n",
    "# 1행 2열의 값은 얼마인가?\n",
    "# 맨 윗줄 : 0 행, 첫번째 열 : 0열 => 1행 2열은 6이 나온다.\n",
    "print(arr[1,2]) # [행,열]\n",
    "# 결과 : 6\n",
    "# index의 시작은 0부터 !! \n",
    "# n차원의 ndarray가 어떻게 표현되는지 확인해보자.\n",
    "# 기본 데이터타입이 정수일 경우, int32로 사용된다.\n",
    "print(arr.dtype)\n",
    "# 결과 : int32\n",
    "# 만약 데이터타입을 지정하려면 \n",
    "arr = np.array(myList,dtype=\"int64\")  #=> 좋지 않은 방법 \n",
    "arr = np.array(myList,dtype=np.int64) #=> 이 방법이 좋다.\n",
    "print(arr.dtype)\n",
    "# 결과 : int64\n"
   ]
  },
  {
   "cell_type": "code",
   "execution_count": 45,
   "metadata": {
    "collapsed": true
   },
   "outputs": [
    {
     "name": "stdout",
     "output_type": "stream",
     "text": [
      "1\n",
      "(4,)\n",
      "(2, 3)\n",
      "(4, 2)\n",
      "(2, 2, 2)\n",
      "[[[1 2]\n",
      "  [3 4]]\n",
      "\n",
      " [[5 6]\n",
      "  [7 8]]]\n",
      "[1 2 3 4]\n"
     ]
    }
   ],
   "source": [
    "# 차원의 개수와 크기 및 축(axis)\n",
    "myList = [1,2,3,4]\n",
    "arr = np.array(myList) # python list를 이용해서 numpy array 생성\n",
    "\n",
    "### ndim\n",
    "# 이렇게 numpy array를 생성하면 차원의 개수를 알 수 있다.\n",
    "print(arr.ndim)\n",
    "# 결과 : 1 => 1차원이기 때문.\n",
    "\n",
    "### shape\n",
    "# 차원의 개수와 원소 개수를 동시에 알려주는 속성\n",
    "print(arr.shape)\n",
    "# 결과 :  (4,)   => 1차원 안의 원소 개수가 4개 .\n",
    "\n",
    "\n",
    "myList2 = [[1,2,3],[4,5,6]]\n",
    "arr2 = np.array(myList2)\n",
    "print(arr2.shape)\n",
    "# 결과 : (2,3) => 2행 3열\n",
    "\n",
    "myList3 = [[1,2],[3,4],[5,6],[7,8]]\n",
    "arr3 = np.array(myList3)\n",
    "print(arr3.shape)\n",
    "# 결과 : (4,2) => 4행 2열\n",
    "\n",
    "myList4 = [[[1,2],[3,4]],[[5,6],[7,8]]]\n",
    "arr4 = np.array(myList4)\n",
    "print(arr4.shape)\n",
    "# 결과 : (2, 2, 2)\n",
    "print(arr4)\n",
    "# 결과 : \n",
    "#[[[1 2]\n",
    "#  [3 4]]\n",
    "#\n",
    "# [[5 6]\n",
    "#  [7 8]]]\n",
    "\n",
    "# 1차원 : 열\n",
    "# 2차원 : 행,열\n",
    "# 3차원 : 면,행,열"
   ]
  },
  {
   "cell_type": "code",
   "execution_count": 73,
   "metadata": {},
   "outputs": [
    {
     "name": "stdout",
     "output_type": "stream",
     "text": [
      "ndarray의 차원의 수는 :1\n",
      "ndarray의 shape :(4,)\n",
      "ndarray의 요소개수 :4\n",
      "ndarrya 의 len =4\n"
     ]
    },
    {
     "ename": "ValueError",
     "evalue": "cannot reshape array of size 4 into shape (2,2,3)",
     "output_type": "error",
     "traceback": [
      "\u001b[1;31m---------------------------------------------------------------------------\u001b[0m",
      "\u001b[1;31mValueError\u001b[0m                                Traceback (most recent call last)",
      "\u001b[1;32m<ipython-input-73-4576de40e614>\u001b[0m in \u001b[0;36m<module>\u001b[1;34m\u001b[0m\n\u001b[0;32m     23\u001b[0m \u001b[1;33m\u001b[0m\u001b[0m\n\u001b[0;32m     24\u001b[0m \u001b[1;31m# 이 array를 출력할 때 shpae변경이 가능하다.\u001b[0m\u001b[1;33m\u001b[0m\u001b[1;33m\u001b[0m\u001b[1;33m\u001b[0m\u001b[0m\n\u001b[1;32m---> 25\u001b[1;33m \u001b[0marr\u001b[0m\u001b[1;33m.\u001b[0m\u001b[0mshape\u001b[0m\u001b[1;33m=\u001b[0m \u001b[1;33m(\u001b[0m\u001b[1;36m2\u001b[0m\u001b[1;33m,\u001b[0m\u001b[1;36m2\u001b[0m\u001b[1;33m,\u001b[0m\u001b[1;36m3\u001b[0m\u001b[1;33m)\u001b[0m\u001b[1;33m\u001b[0m\u001b[1;33m\u001b[0m\u001b[0m\n\u001b[0m\u001b[0;32m     26\u001b[0m \u001b[0mprint\u001b[0m\u001b[1;33m(\u001b[0m\u001b[0marr\u001b[0m\u001b[1;33m)\u001b[0m\u001b[1;33m\u001b[0m\u001b[1;33m\u001b[0m\u001b[0m\n\u001b[0;32m     27\u001b[0m \u001b[1;33m\u001b[0m\u001b[0m\n",
      "\u001b[1;31mValueError\u001b[0m: cannot reshape array of size 4 into shape (2,2,3)"
     ]
    }
   ],
   "source": [
    "# numpy array 차원 제어\n",
    "\n",
    "myList = [1,2,3,4] \n",
    "arr = np.array(myList) # mumpy array 생성 (ndarray)\n",
    "# 차원의 수를 알아보자.\n",
    "print(\"ndarray의 차원의 수는 :{}\".format(arr.ndim))\n",
    "# 결과 :1 \n",
    "\n",
    "# 차원의 수와 각 차원의 원소의 개수\n",
    "print(\"ndarray의 shape :{}\".format(arr.shape))\n",
    "# ndarray의 shape :(4,)\n",
    "\n",
    "# ndarray의 차원에 상관없이 모든 요소의 개수\n",
    "print(\"ndarray의 요소개수 :{}\".format(arr.size))\n",
    "# 결과 : ndarray의 요소개수 :4\n",
    "# python의 len() 함수는 ndarray에 대해 적용하면, 1차 요소개수를 리턴\n",
    "print(\"ndarrya 의 len ={}\".format(arr.size))\n",
    "\n",
    "# dimension은 결과가 숫자\n",
    "\n",
    "myList5 = [[1,2,3,4,5,6,7,8,9,10,11,12]]\n",
    "arr5 = np.array(myList5)\n",
    "           \n",
    "# 이 array를 출력할 때 shape변경이 가능하다.\n",
    "#########필기 다시봐야된다 #################\n",
    "#print(arr.shape)             # (1,2)\n",
    "# 결과 : (2,3) => 2행 3열   \n",
    "print(arr5)\n",
    "\n",
    "# 이렇게 shpae을 변경할 수 있는데 직접 바꾸는 방식은 잘 사용하지 않는다."
   ]
  },
  {
   "cell_type": "code",
   "execution_count": 76,
   "metadata": {},
   "outputs": [
    {
     "name": "stdout",
     "output_type": "stream",
     "text": [
      "dtype=float64\n",
      "[ 1.1   3.14  2.   44.    3.99]\n",
      "[ 1  3  2 44  3]\n"
     ]
    }
   ],
   "source": [
    "# numpy array의 type 변경\n",
    "arr = np.array([1.1,3.14,2,44.0,3.99])\n",
    "print(\"dtype={}\".format(arr.dtype))\n",
    "# 결과 : dtype=float64\n",
    "print(arr)\n",
    "# 결과 : [ 1.1   3.14  2.   44.    3.99]\n",
    "\n",
    "# ndarray의 데이터 타입을 다른 형식으로 변경할 수 있다.\n",
    "# 실수를 정수로 변환할 때, 소수점 이하는 무조건 잘라낸다.\n",
    "int_arr = arr.astype(np.int32)\n",
    "print(int_arr)\n",
    "# 결과 : [ 1  3  2 44  3]"
   ]
  },
  {
   "cell_type": "code",
   "execution_count": 89,
   "metadata": {
    "scrolled": true
   },
   "outputs": [
    {
     "name": "stdout",
     "output_type": "stream",
     "text": [
      "[[0. 0. 0. 0.]\n",
      " [0. 0. 0. 0.]\n",
      " [0. 0. 0. 0.]]\n",
      "[[1 1 1 1]\n",
      " [1 1 1 1]]\n",
      "[[9.86510360e-312 9.86477341e-312 0.00000000e+000 0.00000000e+000\n",
      "  6.37900477e-202 1.16096346e-028 1.04857803e-142]\n",
      " [1.16467185e-028 3.35382771e+131 8.95402175e-096 4.27255602e+180\n",
      "  1.35507324e+248 2.73050811e-009 9.48420094e-076]\n",
      " [1.11487575e+277 1.29510940e+214 6.96744513e+252 9.27777395e+242\n",
      "  1.29450083e-153 4.10114807e+223 3.02876088e-152]\n",
      " [1.06588490e+170 4.52745891e+257 9.27777192e+242 8.77956885e+223\n",
      "  2.35900702e+251 6.96752593e+252 4.01397231e-057]\n",
      " [4.07913195e+223 3.12771417e-120 8.73940330e-154 8.47585247e+136\n",
      "  7.78028727e-143 7.04130798e-009 9.69723857e+189]]\n",
      "[[9 9 9 9]\n",
      " [9 9 9 9]\n",
      " [9 9 9 9]]\n",
      "[[1 2 3]\n",
      " [4 5 6]]\n",
      "[[1. 1. 1. 1.]\n",
      " [1. 1. 1. 1.]\n",
      " [1. 1. 1. 1.]]\n"
     ]
    }
   ],
   "source": [
    "# NumPy array를 만드는 다양한 방법\n",
    "arr = np.array([1,2,3,4])  # 리스트를 이용해서 ndarray를 생성\n",
    "# 모든 원소의 값이 0인 ndarray를 원하는 shape으로 생성할 수 있다.\n",
    "arr = np.zeros((3,4)) # tuple로 shape을 표현한다, (3,4)형태로 원소의 값이 0인 ndarray를 생성한다\n",
    "print(arr)\n",
    "# 결과 : \n",
    "#[[0. 0. 0. 0.]\n",
    "# [0. 0. 0. 0.]\n",
    "# [0. 0. 0. 0.]]\n",
    "\n",
    "# 모든 원소의 값이 1인 ndarray를 원하는 shape으로 생성\n",
    "arr2 = np.ones((2,4),dtype=np.int32)\n",
    "print(arr2)\n",
    "# 결과 : \n",
    "#[[1 1 1 1]\n",
    "# [1 1 1 1]]\n",
    "\n",
    "# NumPy array의 공간만 확보할 수 있다.\n",
    "# 초기화를 하지 않는다. => 속도가 빠르다.\n",
    "arr3 = np.empty((5,7))\n",
    "print(arr3)\n",
    "# 임의의 메모리 공간을 잡아서 쓰레기 값이 들어가 있다.\n",
    "# 사용하기 위해서는 요소의 각 값을 일일이 설정해줘야한다.\n",
    "# 결과 : \n",
    "#[[9.86510360e-312 9.86477341e-312 0.00000000e+000 0.00000000e+000\n",
    "#  6.37900477e-202 1.16096346e-028 1.04857803e-142]\n",
    "# [1.16467185e-028 3.35382771e+131 8.95402175e-096 4.27255602e+180\n",
    "#  1.35507324e+248 2.73050811e-009 9.48420094e-076]\n",
    "# [1.11487575e+277 1.29510940e+214 6.96744513e+252 9.27777395e+242\n",
    "#  1.29450083e-153 4.10114807e+223 3.02876088e-152]\n",
    "# [1.06588490e+170 4.52745891e+257 9.27777192e+242 8.77956885e+223\n",
    "#  2.35900702e+251 6.96752593e+252 4.01397231e-057]\n",
    "# [4.07913195e+223 3.12771417e-120 8.73940330e-154 8.47585247e+136\n",
    "#  7.78028727e-143 7.04130798e-009 9.69723857e+189]]\n",
    "\n",
    "# ones나 zeros는 초기화 작업이 추가적으로 진행되기 때문에 array의 크기가 커지면 속도가 저하된다.\n",
    "# 어차피 다른값으로 바꿀건데 0,1과같은속도가 오래 걸리는 값으로 초기화 할 필요가 없을 때 메모리 공간만 잡는다.\n",
    "\n",
    "arr4 = np.full((3,4),9)  # 내가 원하는 값으로 초기화한다.\n",
    "print(arr4)\n",
    "# 결과 : \n",
    "#[[9 9 9 9]\n",
    "# [9 9 9 9]\n",
    "# [9 9 9 9]]\n",
    "\n",
    "arr5 = np.array([(1,2,3),(4,5,6)]) # 2행 3열의 ndarray\n",
    "print(arr5)\n",
    "# 결과 : \n",
    "#[[1 2 3]\n",
    "# [4 5 6]]\n",
    "# 위에서 설명한 ones,zeros,full,empty와 같은 역할을 하면서 shape이 지정한 array와 같도록 만드는 함수가 있다.\n",
    "arr_like = np.ones_like(arr, dtype=np.float64)\n",
    "print(arr_like)\n",
    "# 결과 : \n",
    "#[[1. 1. 1. 1.]\n",
    "# [1. 1. 1. 1.]\n",
    "# [1. 1. 1. 1.]]"
   ]
  },
  {
   "cell_type": "code",
   "execution_count": 92,
   "metadata": {},
   "outputs": [
    {
     "name": "stdout",
     "output_type": "stream",
     "text": [
      "[0 2 4 6 8]\n",
      "[0 1 2 3 4 5 6 7 8 9]\n",
      "[0.1 1.1 2.1 3.1 4.1 5.1]\n"
     ]
    }
   ],
   "source": [
    "# ndarray를 만드는 다양한 방법 - arange\n",
    "# python의 range()와 유사한 기능을 한다.\n",
    "arr = np.arange(0,10,2) # 0부터 10까지 2씩 증가\n",
    "print(arr)\n",
    "# 결과 : [0 2 4 6 8]\n",
    "arr2 = np.arange(10)    # 0부터 10까지 1씩 증가\n",
    "print(arr2)\n",
    "# 결과 : [0 1 2 3 4 5 6 7 8 9] \n",
    "arr3 = np.arange(0.1,5.3) # 0.1부터 5.3까지 1씩 증가\n",
    "print(arr3)\n",
    "# 결과 : [0.1 1.1 2.1 3.1 4.1 5.1]"
   ]
  },
  {
   "cell_type": "code",
   "execution_count": 111,
   "metadata": {
    "scrolled": true
   },
   "outputs": [
    {
     "name": "stdout",
     "output_type": "stream",
     "text": [
      "[ 0.  1.  2.  3.  4.  5.  6.  7.  8.  9. 10.]\n",
      "[ 0.   2.5  5.   7.5 10. ]\n",
      "[ 0.          3.33333333  6.66666667 10.        ]\n",
      "[ 0.          0.52631579  1.05263158  1.57894737  2.10526316  2.63157895\n",
      "  3.15789474  3.68421053  4.21052632  4.73684211  5.26315789  5.78947368\n",
      "  6.31578947  6.84210526  7.36842105  7.89473684  8.42105263  8.94736842\n",
      "  9.47368421 10.        ]\n"
     ]
    },
    {
     "data": {
      "image/png": "[encoded data removed]",
      "text/plain": [
       "<Figure size 432x288 with 1 Axes>"
      ]
     },
     "metadata": {
      "needs_background": "light"
     },
     "output_type": "display_data"
    }
   ],
   "source": [
    "# ndarray를 만드는 다양한 방법 -linspace\n",
    "# np.linspace(start,stop,num)\n",
    "# start부터 stop까지의 범위에서 num개를 균일한 간격으로 데이터를 생성하고 ndarray로 return\n",
    "\n",
    "arr = np.linspace(0,10,11)\n",
    "print(arr)\n",
    "# 결과 : [ 0.  1.  2.  3.  4.  5.  6.  7.  8.  9. 10.]\n",
    "arr2 = np.linspace(0,10,5)\n",
    "print(arr2)\n",
    "# 결과 : [ 0.   2.5  5.   7.5 10. ]\n",
    "arr3 = np.linspace(0,10,4)\n",
    "print(arr3)\n",
    "# 결과 : [ 0.          3.33333333  6.66666667 10.        ]\n",
    "arr4 = np.linspace(0,10,20)\n",
    "print(arr4)\n",
    "# 결과 : \n",
    "#[ 0.          0.52631579  1.05263158  1.57894737  2.10526316  2.63157895\n",
    "#  3.15789474  3.68421053  4.21052632  4.73684211  5.26315789  5.78947368\n",
    "#  6.31578947  6.84210526  7.36842105  7.89473684  8.42105263  8.94736842\n",
    "#  9.47368421 10.        ]\n",
    "# => 균등한 간격으로 나온다 !!!!\n",
    "\n",
    "# 눈으로 보기 힘드니 그래프로 보자 !\n",
    "# char를 그리는 대표적인 package가 있다 => matplotlib\n",
    "# conda install matplotlib 설치 => y\n",
    "\n",
    "import matplotlib.pyplot as plt\n",
    "plt.plot(arr4)\n",
    "plt.show()\n"
   ]
  },
  {
   "cell_type": "code",
   "execution_count": 143,
   "metadata": {},
   "outputs": [
    {
     "name": "stdout",
     "output_type": "stream",
     "text": [
      "[49.61596217 52.56634182 50.36953431 ... 51.27741195 54.68750964\n",
      " 47.7947314 ]\n"
     ]
    },
    {
     "data": {
      "image/png": "[encoded data removed]",
      "text/plain": [
       "<Figure size 432x288 with 1 Axes>"
      ]
     },
     "metadata": {
      "needs_background": "light"
     },
     "output_type": "display_data"
    },
    {
     "data": {
      "image/png": "[encoded data removed]",
      "text/plain": [
       "<Figure size 432x288 with 1 Axes>"
      ]
     },
     "metadata": {
      "needs_background": "light"
     },
     "output_type": "display_data"
    },
    {
     "data": {
      "image/png": "[encoded data removed]",
      "text/plain": [
       "<Figure size 432x288 with 1 Axes>"
      ]
     },
     "metadata": {
      "needs_background": "light"
     },
     "output_type": "display_data"
    },
    {
     "data": {
      "image/png": "[encoded data removed]",
      "text/plain": [
       "<Figure size 432x288 with 1 Axes>"
      ]
     },
     "metadata": {
      "needs_background": "light"
     },
     "output_type": "display_data"
    },
    {
     "data": {
      "image/png": "[encoded data removed]",
      "text/plain": [
       "<Figure size 432x288 with 1 Axes>"
      ]
     },
     "metadata": {
      "needs_background": "light"
     },
     "output_type": "display_data"
    },
    {
     "name": "stdout",
     "output_type": "stream",
     "text": [
      "[2 0 2 6 5]\n"
     ]
    }
   ],
   "source": [
    "# NumPy Array (ndarray)\n",
    "# 특징, 여러가지 속성들(ndim, shape, ,,, )\n",
    "# ndarray의 생성방법에 대하여 이야기하였다.\n",
    "\n",
    "import numpy as np\n",
    "import matplotlib.pyplot as plt\n",
    "\n",
    "\n",
    "# 난수를 이용해서 ndarray를 생성하는 방법\n",
    "# 5가지 방법.\n",
    "\n",
    "# 1) np.random.normal() : 난수를 생성해서 ndarray를 만들 수 있다.  => 정규분포 확률밀도에서 난수를 발생시킨다.\n",
    "# 평균          표준편차\n",
    "myMean = 50;    myStd = 2\n",
    "arr = np.random.normal(myMean,myStd,(10000,)) #1차원으로 만개를 뽑는다. *(10000,5)로 설정하면 10000행 5열의 2차원\n",
    "print(arr)\n",
    "# 결과 : [51.84052479 47.16789502 48.81351372 ... 52.80027977 50.82109156\n",
    "# 49.55090054]\n",
    "# 히스토그램으로 위를 그려보자\n",
    "plt.hist(arr, bins=100) # bins : 몇 개의 구간으로 나누어서 각 구간에 난수가 몇 개 있는지 센다.\n",
    "plt.show()\n",
    "\n",
    "\n",
    "# 2) np.random.rand()\n",
    "# => [0,1) 구간에서 균등분포 확률밀도상에서 난수 추출\n",
    "# 0 이상, 1미만 \n",
    "arr2 = np.random.rand(10000)  # 1차원       *(2,3)=> 2차원\n",
    "plt.hist(arr2, bins=100)\n",
    "plt.show()\n",
    "\n",
    "\n",
    "# 3) np.random.randn()\n",
    "# => 표준정규분포 확률밀도상에서 난수 추출\n",
    "# 표준정규분포 : 평균이 0이고 표준편차가 1인 분포\n",
    "# 가장 많이 사용함\n",
    "arr3 = np.random.randn(10000)  #인자의 개수로 차원을 지정\n",
    "plt.hist(arr3, bins=100)\n",
    "plt.show()\n",
    "\n",
    "\n",
    "# 4) \n",
    "# 난수(정수)를 추출하자\n",
    "# 주어진 범위에서 균등분포 확률밀도상에서 난수 추출\n",
    "arr4 = np.random.randint(-100,100,(10000)) # 10000=> shape을 정함\n",
    "plt.hist(arr4, bins=100)\n",
    "plt.show()\n",
    "\n",
    "\n",
    "# 5)\n",
    "#[0,1) 에서 균등분포 확률밀도상에서 난수 추출\n",
    "arr2 = np.random.random((10000,))  # 1차원       *(2,3)=> 2차원\n",
    "plt.hist(arr2, bins=100)\n",
    "plt.show()\n",
    " \n",
    "# 난수는 랜덤값이르모 실행할 때마다 추출되는 난수가 달라져야 한다\n",
    "# 난수값도 사실은 알고ㄹㅣ즘에 의해서 계산되는 값이다.\n",
    "# => 알고리즘의 초기값을 고정시키면 항상 같은 난수를 얻을 수 있다.=> 재현성\n",
    "\n",
    "\n",
    "arr6 =np.random.randint(0,10,(5,))\n",
    "print(arr6)\n",
    "# 결과 : [2 0 2 6 5]\n",
    "\n"
   ]
  },
  {
   "cell_type": "code",
   "execution_count": null,
   "metadata": {},
   "outputs": [],
   "source": []
  }
 ],
 "metadata": {
  "kernelspec": {
   "display_name": "[CPU_ENV]",
   "language": "python",
   "name": "cpu_env"
  },
  "language_info": {
   "codemirror_mode": {
    "name": "ipython",
    "version": 3
   },
   "file_extension": ".py",
   "mimetype": "text/x-python",
   "name": "python",
   "nbconvert_exporter": "python",
   "pygments_lexer": "ipython3",
   "version": "3.6.9"
  }
 },
 "nbformat": 4,
 "nbformat_minor": 2
}
